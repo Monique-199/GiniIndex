{
  "nbformat": 4,
  "nbformat_minor": 0,
  "metadata": {
    "colab": {
      "provenance": []
    },
    "kernelspec": {
      "name": "python3",
      "display_name": "Python 3"
    },
    "language_info": {
      "name": "python"
    }
  },
  "cells": [
    {
      "cell_type": "code",
      "execution_count": 7,
      "metadata": {
        "id": "n5mupoxmeQaU"
      },
      "outputs": [],
      "source": [
        "import numpy as np"
      ]
    },
    {
      "cell_type": "code",
      "source": [
        "# Sort the data\n",
        "data = np.array([12, 6, 2, 14, 10])\n",
        "data = np.sort(data)"
      ],
      "metadata": {
        "id": "xGEIeVoZeedq"
      },
      "execution_count": 8,
      "outputs": []
    },
    {
      "cell_type": "code",
      "source": [
        "# Calculate the cumulative percentages\n",
        "n = len(data)\n",
        "cumulative_x = np.arange(1, n + 1) / n\n",
        "cumulative_y = np.cumsum(data) / np.sum(data)"
      ],
      "metadata": {
        "id": "toYvzjIOemx9"
      },
      "execution_count": 9,
      "outputs": []
    },
    {
      "cell_type": "code",
      "source": [
        "# Calculate the area under the Lorenz curve\n",
        "area_under_curve = np.trapz(cumulative_y, cumulative_x)"
      ],
      "metadata": {
        "id": "idGSLi_De8L4"
      },
      "execution_count": 10,
      "outputs": []
    },
    {
      "cell_type": "code",
      "source": [
        "# Calculate the Gini Index\n",
        "gini_index = 1 - 2 * area_under_curve"
      ],
      "metadata": {
        "id": "vP2ybC6dfAUQ"
      },
      "execution_count": 11,
      "outputs": []
    },
    {
      "cell_type": "code",
      "source": [
        "print(\"Gini Index:\", gini_index)"
      ],
      "metadata": {
        "colab": {
          "base_uri": "https://localhost:8080/"
        },
        "id": "SNOP4O6GfGe_",
        "outputId": "2396f15e-49b1-4687-a698-a3a085d9c249"
      },
      "execution_count": 12,
      "outputs": [
        {
          "output_type": "stream",
          "name": "stdout",
          "text": [
            "Gini Index: 0.28181818181818197\n"
          ]
        }
      ]
    }
  ]
}